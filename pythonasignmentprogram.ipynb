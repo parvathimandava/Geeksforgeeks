{
  "nbformat": 4,
  "nbformat_minor": 0,
  "metadata": {
    "colab": {
      "name": "pythonasignmentprogram.ipynb",
      "provenance": [],
      "include_colab_link": true
    },
    "kernelspec": {
      "name": "python3",
      "display_name": "Python 3"
    }
  },
  "cells": [
    {
      "cell_type": "markdown",
      "metadata": {
        "id": "view-in-github",
        "colab_type": "text"
      },
      "source": [
        "<a href=\"https://colab.research.google.com/github/parvathimandava/Geeksforgeeks/blob/master/pythonasignmentprogram.ipynb\" target=\"_parent\"><img src=\"https://colab.research.google.com/assets/colab-badge.svg\" alt=\"Open In Colab\"/></a>"
      ]
    },
    {
      "cell_type": "markdown",
      "metadata": {
        "id": "WZ52PeiYrvAC"
      },
      "source": [
        "problem 1 : A food court facilitates their customers with a featured App where the customers can view the Menu Card and place their order. The order may be delivered on-premises as per policies. Write a code to take the order from the customers by pressing\n",
        "\n",
        "menu number\n",
        "\n",
        "Quantity\n",
        "\n",
        "\n",
        "After one customer completes the process of placing the order by pressing the Menu number and Quantity. Your code should accept y to continue taking order or n for stopping the process of order taking\n",
        "\n",
        "Final output should be the calculated total amount.\n",
        "\n",
        "Menu card is given as\n",
        "\n",
        "Number Name                                Price\n",
        "\n",
        "1. Veg sandwich                        80.0\n",
        "\n",
        "2. Cheese sandwich                        130.0\n",
        "\n",
        "3. Veg Grilled sandwich                 100.0\n",
        "\n",
        "4. Sada Dosa                                80.0\n",
        "\n",
        "5. Masala Dosa                        90.0\n",
        "\n",
        "6. Onion Rava Sada Dosa                110.0\n",
        "\n",
        "7. Onion Rava Masala Dosa                120.0\n",
        "\n",
        "8. Spring Dosa                        140.0\n",
        "\n",
        "9. Plain Uttapam                        70.0\n",
        "\n",
        "10. Onion Uttapam                        80.0\n",
        "\n",
        "\n",
        "You can use any suitable data structure to hold the menu card items with price.\n",
        "\n",
        "Inputs for Menu Number and Quantity should be integers greater than 0 and less than 11. For any other input, return as output: INVALID INPUT\n",
        "\n",
        "Example 1\n",
        "\n",
        "INPUT VALUES\n",
        "\n",
        "1                        //for enter menu number\n",
        "\n",
        "2                        //for enter quantity\n",
        "\n",
        "Y                        //Do you want to order\n",
        "\n",
        "More Items? (y/n)\n",
        "\n",
        "2                        //for enter menu number\n",
        "\n",
        "3                        //for enter quantity\n",
        "\n",
        "N                        //Do you want to order\n",
        "\n",
        "More items? (y/n)\n",
        "\n",
        "\n",
        "Output values\n",
        "\n",
        "Total Amount : 550.0 INR\n",
        "\n",
        "Note: Input prompt should not be the part of code\n",
        "\n",
        "(Only accept values as input in order as given above)\n"
      ]
    },
    {
      "cell_type": "code",
      "metadata": {
        "id": "4dLxyymhtbM2",
        "outputId": "9cf617ae-35f5-49f9-fa1e-06bde7d502ce",
        "colab": {
          "base_uri": "https://localhost:8080/"
        }
      },
      "source": [
        "list = []\n",
        "\n",
        "data = {1: 80, 2: 130, 3: 100, 4: 80, 5: 90, 6: 110, 7: 120, 8: 140, 9: 70, 10: 80, 11: 130, 12: 160, 13: 7, 14: 60, 15: 40, 16: 50, 17: 30, 18: 40, 19: 160, 20: 150}\n",
        "\n",
        "def quantity():\n",
        "\n",
        "  a = int(input(\"Enter the Menu Item Number.....\"))\n",
        "\n",
        "  b = int(input(\"Enter the Quantity..............\"))\n",
        "\n",
        "  # print(price)\n",
        "\n",
        "  cv = data[a] * b\n",
        "\n",
        "  #print(\"You have ordered the item number.......\", a)\n",
        "\n",
        "  #print(\"You have ordered the quantity..........\", b)\n",
        "\n",
        "  #print(\"Total price..........................\")\n",
        "\n",
        "  menu = a\n",
        "\n",
        "  total_quantity = b\n",
        "\n",
        "  cost = cv\n",
        "\n",
        "  q = (menu, total_quantity, cost)\n",
        "\n",
        "  list.append(q)\n",
        "\n",
        "  #print(q)\n",
        "\n",
        "\n",
        "  c = input(\"Do you want to order more items........\")\n",
        "\n",
        "  print(\"Total amount:\",cost )\n",
        "\n",
        "\n",
        "  if c == \"Yes\":\n",
        "\n",
        "     quantity()\n",
        "\n",
        "  else:\n",
        "\n",
        "     #for i in (0, len(list)):\n",
        "       print(\"Total amount:\",cost )\n",
        "\n",
        "       \n",
        "\n",
        "quantity()"
      ],
      "execution_count": 7,
      "outputs": [
        {
          "output_type": "stream",
          "text": [
            "Enter the Menu Item Number.....8\n",
            "Enter the Quantity..............1\n",
            "Do you want to order more items........no\n",
            "Total amount: 140\n",
            "Total amount: 140\n"
          ],
          "name": "stdout"
        }
      ]
    }
  ]
}