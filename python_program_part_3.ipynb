{
  "nbformat": 4,
  "nbformat_minor": 0,
  "metadata": {
    "colab": {
      "name": "python program part-3.ipynb",
      "provenance": [],
      "include_colab_link": true
    },
    "kernelspec": {
      "name": "python3",
      "display_name": "Python 3"
    }
  },
  "cells": [
    {
      "cell_type": "markdown",
      "metadata": {
        "id": "view-in-github",
        "colab_type": "text"
      },
      "source": [
        "<a href=\"https://colab.research.google.com/github/parvathimandava/Geeksforgeeks/blob/master/python_program_part_3.ipynb\" target=\"_parent\"><img src=\"https://colab.research.google.com/assets/colab-badge.svg\" alt=\"Open In Colab\"/></a>"
      ]
    },
    {
      "cell_type": "markdown",
      "metadata": {
        "id": "AdF0FMQ7vfS_"
      },
      "source": [
        "Write a Program to Count the Number of Each Vowel from a string.\n",
        "\n",
        "Input : string = Hello, have you tried our tutorial section yet?\n",
        "\n",
        "Output : {'o': 5, 'i': 3, 'a': 2, 'e': 5, 'u': 3}"
      ]
    },
    {
      "cell_type": "code",
      "metadata": {
        "id": "w_NdvXLMt7Af",
        "outputId": "2fef3b22-33ac-49dc-deef-985df0203de7",
        "colab": {
          "base_uri": "https://localhost:8080/"
        }
      },
      "source": [
        "vowels = 'aeiou'\n",
        " \n",
        "# take input from the user\n",
        "ip_str = input(\"Enter a string: \")\n",
        " \n",
        "# make it suitable for caseless comparisions\n",
        "ip_str = ip_str.casefold()\n",
        " \n",
        "# make a dictionary with each vowel a key and value 0\n",
        "count = {}.fromkeys(vowels,0)\n",
        " \n",
        "# count the vowels\n",
        "for char in ip_str:\n",
        "   if char in count:\n",
        "       count[char] += 1\n",
        " \n",
        "print(count)"
      ],
      "execution_count": 4,
      "outputs": [
        {
          "output_type": "stream",
          "text": [
            "Enter a string: Hello, have you tried our tutorial section yet?\n",
            "{'a': 2, 'e': 5, 'i': 3, 'o': 5, 'u': 3}\n"
          ],
          "name": "stdout"
        }
      ]
    },
    {
      "cell_type": "markdown",
      "metadata": {
        "id": "dG3L4GWPw65E"
      },
      "source": [
        "Write a Program to Sort Words in Alphabetic Order. (which word in dictionary occur first)\n",
        "\n",
        "Input : string = \"Hello this Is an Example With cased letters\"\n",
        "\n",
        "Output :\n",
        "\n",
        "        an\n",
        "        cased\n",
        "        example\n",
        "        hello\n",
        "        is\n",
        "        letters\n",
        "        this\n",
        "        with"
      ]
    },
    {
      "cell_type": "code",
      "metadata": {
        "id": "GuM5roh5xp_d",
        "outputId": "c1a2e406-1bef-48c1-d864-ad34a8613988",
        "colab": {
          "base_uri": "https://localhost:8080/"
        }
      },
      "source": [
        "my_str = \"Hello this Is an Example With cased letters\"\n",
        "\n",
        "# To take input from the user\n",
        "#my_str = input(\"Enter a string: \")\n",
        "\n",
        "# breakdown the string into a list of words\n",
        "words = [word.lower() for word in my_str.split()]\n",
        "\n",
        "# sort the list\n",
        "words.sort()\n",
        "\n",
        "# display the sorted words\n",
        "\n",
        "print(\"The sorted words are:\")\n",
        "for word in words:\n",
        "   print(word)\n"
      ],
      "execution_count": 8,
      "outputs": [
        {
          "output_type": "stream",
          "text": [
            "The sorted words are:\n",
            "an\n",
            "cased\n",
            "example\n",
            "hello\n",
            "is\n",
            "letters\n",
            "this\n",
            "with\n"
          ],
          "name": "stdout"
        }
      ]
    },
    {
      "cell_type": "markdown",
      "metadata": {
        "id": "3nwoIx4KxsW4"
      },
      "source": [
        "Write a Program to Remove Punctuations From a String.\n",
        "\n",
        "Punctuations Mark : (!()-[]{};:'\"\\,<>./?@#$%^&*_~)\n",
        "\n",
        "Input : string = \"Hello!!!, he said ---and went\"\n",
        "\n",
        "Output : Hello he said and went"
      ]
    },
    {
      "cell_type": "code",
      "metadata": {
        "id": "bSrYrg66zQAZ",
        "outputId": "2b9f005c-3c51-4a1f-a7c8-fde5ed088f62",
        "colab": {
          "base_uri": "https://localhost:8080/"
        }
      },
      "source": [
        "punctuations = '''!()-[]{};:'\"\\,<>./?@#$%^&*_~'''\n",
        "\n",
        "my_str = \"Hello!!!, he said ---and went.\"\n",
        "\n",
        "# To take input from the user\n",
        "# my_str = input(\"Enter a string: \")\n",
        "\n",
        "# remove punctuation from the string\n",
        "no_punct = \"\"\n",
        "for char in my_str:\n",
        "   if char not in punctuations:\n",
        "       no_punct = no_punct + char\n",
        "\n",
        "# display the unpunctuated string\n",
        "print(no_punct)"
      ],
      "execution_count": 9,
      "outputs": [
        {
          "output_type": "stream",
          "text": [
            "Hello he said and went\n"
          ],
          "name": "stdout"
        }
      ]
    }
  ]
}